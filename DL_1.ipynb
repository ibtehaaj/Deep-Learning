{
  "nbformat": 4,
  "nbformat_minor": 0,
  "metadata": {
    "accelerator": "GPU",
    "colab": {
      "name": "DL 1",
      "provenance": [],
      "collapsed_sections": [],
      "include_colab_link": true
    },
    "kernelspec": {
      "display_name": "Python 3",
      "language": "python",
      "name": "python3"
    },
    "language_info": {
      "codemirror_mode": {
        "name": "ipython",
        "version": 3
      },
      "file_extension": ".py",
      "mimetype": "text/x-python",
      "name": "python",
      "nbconvert_exporter": "python",
      "pygments_lexer": "ipython3",
      "version": "3.7.3"
    }
  },
  "cells": [
    {
      "cell_type": "markdown",
      "metadata": {
        "id": "view-in-github",
        "colab_type": "text"
      },
      "source": [
        "<a href=\"https://colab.research.google.com/github/ibtehaaj/Deep-Learning/blob/master/DL_1.ipynb\" target=\"_parent\"><img src=\"https://colab.research.google.com/assets/colab-badge.svg\" alt=\"Open In Colab\"/></a>"
      ]
    },
    {
      "cell_type": "code",
      "metadata": {
        "colab_type": "code",
        "id": "tkja83E9FcnE",
        "colab": {}
      },
      "source": [
        "import tensorflow as tf\n",
        "\n",
        "# if tf.__version__ < \"2.0.0\":\n",
        "#   !pip install --upgrade tensorflow_gpu==2.0"
      ],
      "execution_count": 0,
      "outputs": []
    },
    {
      "cell_type": "code",
      "metadata": {
        "colab_type": "code",
        "id": "Gda5jRovFiW0",
        "outputId": "d3326447-7d21-466b-d0b8-41b749e1be2d",
        "colab": {
          "base_uri": "https://localhost:8080/",
          "height": 34
        }
      },
      "source": [
        "print(tf.__version__)"
      ],
      "execution_count": 0,
      "outputs": [
        {
          "output_type": "stream",
          "text": [
            "2.0.0\n"
          ],
          "name": "stdout"
        }
      ]
    },
    {
      "cell_type": "code",
      "metadata": {
        "colab_type": "code",
        "id": "JLUtVo5nF2hj",
        "colab": {}
      },
      "source": [
        "mnist = tf.keras.datasets.mnist"
      ],
      "execution_count": 0,
      "outputs": []
    },
    {
      "cell_type": "code",
      "metadata": {
        "colab_type": "code",
        "id": "7jbYAhkAF938",
        "outputId": "8274d42e-48a7-4b31-949e-d677ad770584",
        "colab": {
          "base_uri": "https://localhost:8080/",
          "height": 52
        }
      },
      "source": [
        "(x_train, y_train), (x_test, y_test) = mnist.load_data()     "
      ],
      "execution_count": 0,
      "outputs": [
        {
          "output_type": "stream",
          "text": [
            "Downloading data from https://storage.googleapis.com/tensorflow/tf-keras-datasets/mnist.npz\n",
            "11493376/11490434 [==============================] - 0s 0us/step\n"
          ],
          "name": "stdout"
        }
      ]
    },
    {
      "cell_type": "code",
      "metadata": {
        "colab_type": "code",
        "id": "t6VBnJ93GBYz",
        "outputId": "68b9ef68-ec6d-43d5-cc1f-fe1e5ee5f413",
        "colab": {
          "base_uri": "https://localhost:8080/",
          "height": 34
        }
      },
      "source": [
        "x_train, x_test = x_train / 255.0  ,  x_test / 255.0\n",
        "x_train.shape\n"
      ],
      "execution_count": 0,
      "outputs": [
        {
          "output_type": "execute_result",
          "data": {
            "text/plain": [
              "(60000, 28, 28)"
            ]
          },
          "metadata": {
            "tags": []
          },
          "execution_count": 4
        }
      ]
    },
    {
      "cell_type": "code",
      "metadata": {
        "colab_type": "code",
        "id": "6G1iXzKwGE8f",
        "colab": {}
      },
      "source": [
        "model = tf.keras.models.Sequential([\n",
        "  tf.keras.layers.Flatten(input_shape=(28, 28)),\n",
        "  tf.keras.layers.Dense(128, activation='relu'),\n",
        "  tf.keras.layers.Dropout(0.2),\n",
        "  tf.keras.layers.Dense(10, activation='softmax')\n",
        "])"
      ],
      "execution_count": 0,
      "outputs": []
    },
    {
      "cell_type": "code",
      "metadata": {
        "colab_type": "code",
        "id": "DVJ9fFM-GTBx",
        "colab": {}
      },
      "source": [
        "model.compile(optimizer='adam',\n",
        "              loss='sparse_categorical_crossentropy',\n",
        "              metrics=['accuracy'])"
      ],
      "execution_count": 0,
      "outputs": []
    },
    {
      "cell_type": "code",
      "metadata": {
        "colab_type": "code",
        "id": "XrcQAPArHA4L",
        "outputId": "17b2db43-100d-4f63-9f1d-3f76a36b18cd",
        "colab": {
          "base_uri": "https://localhost:8080/",
          "height": 399
        }
      },
      "source": [
        "model.fit(x_train, y_train, epochs=10)"
      ],
      "execution_count": 0,
      "outputs": [
        {
          "output_type": "stream",
          "text": [
            "Train on 60000 samples\n",
            "Epoch 1/10\n",
            "60000/60000 [==============================] - 4s 71us/sample - loss: 0.0220 - accuracy: 0.9933\n",
            "Epoch 2/10\n",
            "60000/60000 [==============================] - 4s 70us/sample - loss: 0.0170 - accuracy: 0.9942\n",
            "Epoch 3/10\n",
            "60000/60000 [==============================] - 4s 74us/sample - loss: 0.0170 - accuracy: 0.9945\n",
            "Epoch 4/10\n",
            "60000/60000 [==============================] - 5s 75us/sample - loss: 0.0175 - accuracy: 0.9942\n",
            "Epoch 5/10\n",
            "60000/60000 [==============================] - 4s 73us/sample - loss: 0.0162 - accuracy: 0.9948\n",
            "Epoch 6/10\n",
            "60000/60000 [==============================] - 4s 70us/sample - loss: 0.0154 - accuracy: 0.9946\n",
            "Epoch 7/10\n",
            "60000/60000 [==============================] - 4s 71us/sample - loss: 0.0141 - accuracy: 0.9953\n",
            "Epoch 8/10\n",
            "60000/60000 [==============================] - 4s 70us/sample - loss: 0.0146 - accuracy: 0.9953\n",
            "Epoch 9/10\n",
            "60000/60000 [==============================] - 4s 73us/sample - loss: 0.0135 - accuracy: 0.9955\n",
            "Epoch 10/10\n",
            "60000/60000 [==============================] - 4s 73us/sample - loss: 0.0152 - accuracy: 0.9950\n"
          ],
          "name": "stdout"
        },
        {
          "output_type": "execute_result",
          "data": {
            "text/plain": [
              "<tensorflow.python.keras.callbacks.History at 0x7f46cd70aba8>"
            ]
          },
          "metadata": {
            "tags": []
          },
          "execution_count": 19
        }
      ]
    },
    {
      "cell_type": "code",
      "metadata": {
        "colab_type": "code",
        "id": "FRfnoWkNHp0M",
        "outputId": "1e175e39-7c97-4184-e460-d9d2cb027af2",
        "colab": {
          "base_uri": "https://localhost:8080/",
          "height": 34
        }
      },
      "source": [
        "evaluation = model.evaluate(x_test,  y_test, verbose=2)      "
      ],
      "execution_count": 0,
      "outputs": [
        {
          "output_type": "stream",
          "text": [
            "10000/1 - 1s - loss: 0.0391 - accuracy: 0.9815\n"
          ],
          "name": "stdout"
        }
      ]
    },
    {
      "cell_type": "code",
      "metadata": {
        "colab_type": "code",
        "id": "e74QmEfYITb7",
        "outputId": "2278049a-2a05-438c-dd8f-9a45675a248b",
        "colab": {
          "base_uri": "https://localhost:8080/",
          "height": 52
        }
      },
      "source": [
        "print(evaluation[0])   #test loss\n",
        "print(evaluation[1])   #test accuracy"
      ],
      "execution_count": 0,
      "outputs": [
        {
          "output_type": "stream",
          "text": [
            "0.07807853825769344\n",
            "0.9815\n"
          ],
          "name": "stdout"
        }
      ]
    },
    {
      "cell_type": "code",
      "metadata": {
        "colab_type": "code",
        "id": "ddDL6T8XJyMQ",
        "outputId": "cee72403-10da-42ed-e7d0-55ead9ba2e8a",
        "colab": {
          "base_uri": "https://localhost:8080/",
          "height": 282
        }
      },
      "source": [
        "import matplotlib.pyplot as plt\n",
        "plt.imshow(x_test[7],cmap='Greys')\n",
        "model.predict_classes(x_test[7].reshape(1, 28, 28 ))\n"
      ],
      "execution_count": 0,
      "outputs": [
        {
          "output_type": "execute_result",
          "data": {
            "text/plain": [
              "array([9])"
            ]
          },
          "metadata": {
            "tags": []
          },
          "execution_count": 10
        },
        {
          "output_type": "display_data",
          "data": {
            "image/png": "[encoded data removed]",
            "text/plain": [
              "<Figure size 432x288 with 1 Axes>"
            ]
          },
          "metadata": {
            "tags": []
          }
        }
      ]
    },
    {
      "cell_type": "code",
      "metadata": {
        "id": "XTUdV3lECRoK",
        "colab_type": "code",
        "outputId": "fbb2ffd9-29d4-4d10-92dd-ec02abe18dd4",
        "colab": {
          "base_uri": "https://localhost:8080/",
          "height": 34
        }
      },
      "source": [
        "# model.save('dc.h5')"
      ],
      "execution_count": 0,
      "outputs": [
        {
          "output_type": "execute_result",
          "data": {
            "text/plain": [
              "(10000, 28, 28)"
            ]
          },
          "metadata": {
            "tags": []
          },
          "execution_count": 50
        }
      ]
    },
    {
      "cell_type": "code",
      "metadata": {
        "id": "-WtG-cqLNfyO",
        "colab_type": "code",
        "outputId": "c1637563-f3d9-4675-eb1b-b53ad168199a",
        "colab": {
          "base_uri": "https://localhost:8080/",
          "height": 34
        }
      },
      "source": [
        "c = 0\n",
        "for i in range(0,1000):\n",
        "    prediction =  model.predict_classes(x_test[i].reshape(1,28,28))\n",
        "    if prediction != y_test[i]:\n",
        "        c += 1\n",
        "\n",
        "print(c)    "
      ],
      "execution_count": 0,
      "outputs": [
        {
          "output_type": "stream",
          "text": [
            "21\n"
          ],
          "name": "stdout"
        }
      ]
    },
    {
      "cell_type": "code",
      "metadata": {
        "id": "peiOLpSLej6j",
        "colab_type": "code",
        "colab": {}
      },
      "source": [
        "#validation data\n",
        "x_val = x_train[:6000]\n",
        "partial_x_train = x_train[6000:]\n",
        "y_val = y_train[:6000]\n",
        "partial_y_train = y_train[6000:]"
      ],
      "execution_count": 0,
      "outputs": []
    },
    {
      "cell_type": "code",
      "metadata": {
        "id": "T2UXfpU2fvxW",
        "colab_type": "code",
        "outputId": "ed2b1c24-a25a-4b5b-aeb4-cffd0b84e8f4",
        "colab": {
          "base_uri": "https://localhost:8080/",
          "height": 1000
        }
      },
      "source": [
        "history = model.fit(partial_x_train,partial_y_train,epochs=30,validation_data=(x_val, y_val))\n"
      ],
      "execution_count": 0,
      "outputs": [
        {
          "output_type": "stream",
          "text": [
            "Train on 54000 samples, validate on 6000 samples\n",
            "Epoch 1/30\n",
            "54000/54000 [==============================] - 5s 93us/sample - loss: 0.0248 - accuracy: 0.9915 - val_loss: 0.0098 - val_accuracy: 0.9973\n",
            "Epoch 2/30\n",
            "54000/54000 [==============================] - 5s 87us/sample - loss: 0.0251 - accuracy: 0.9918 - val_loss: 0.0131 - val_accuracy: 0.9950\n",
            "Epoch 3/30\n",
            "54000/54000 [==============================] - 5s 87us/sample - loss: 0.0235 - accuracy: 0.9921 - val_loss: 0.0143 - val_accuracy: 0.9955\n",
            "Epoch 4/30\n",
            "54000/54000 [==============================] - 5s 89us/sample - loss: 0.0216 - accuracy: 0.9925 - val_loss: 0.0183 - val_accuracy: 0.9948\n",
            "Epoch 5/30\n",
            "54000/54000 [==============================] - 5s 87us/sample - loss: 0.0224 - accuracy: 0.9925 - val_loss: 0.0162 - val_accuracy: 0.9948\n",
            "Epoch 6/30\n",
            "54000/54000 [==============================] - 5s 85us/sample - loss: 0.0214 - accuracy: 0.9922 - val_loss: 0.0191 - val_accuracy: 0.9940\n",
            "Epoch 7/30\n",
            "54000/54000 [==============================] - 5s 91us/sample - loss: 0.0214 - accuracy: 0.9928 - val_loss: 0.0178 - val_accuracy: 0.9937\n",
            "Epoch 8/30\n",
            "54000/54000 [==============================] - 5s 90us/sample - loss: 0.0220 - accuracy: 0.9927 - val_loss: 0.0189 - val_accuracy: 0.9947\n",
            "Epoch 9/30\n",
            "54000/54000 [==============================] - 5s 88us/sample - loss: 0.0189 - accuracy: 0.9932 - val_loss: 0.0210 - val_accuracy: 0.9927\n",
            "Epoch 10/30\n",
            "54000/54000 [==============================] - 5s 86us/sample - loss: 0.0198 - accuracy: 0.9935 - val_loss: 0.0203 - val_accuracy: 0.9945\n",
            "Epoch 11/30\n",
            "54000/54000 [==============================] - 5s 86us/sample - loss: 0.0190 - accuracy: 0.9931 - val_loss: 0.0195 - val_accuracy: 0.9933\n",
            "Epoch 12/30\n",
            "54000/54000 [==============================] - 5s 89us/sample - loss: 0.0186 - accuracy: 0.9936 - val_loss: 0.0222 - val_accuracy: 0.9928\n",
            "Epoch 13/30\n",
            "54000/54000 [==============================] - 5s 91us/sample - loss: 0.0174 - accuracy: 0.9936 - val_loss: 0.0267 - val_accuracy: 0.9920\n",
            "Epoch 14/30\n",
            "54000/54000 [==============================] - 5s 88us/sample - loss: 0.0171 - accuracy: 0.9940 - val_loss: 0.0254 - val_accuracy: 0.9922\n",
            "Epoch 15/30\n",
            "54000/54000 [==============================] - 5s 87us/sample - loss: 0.0185 - accuracy: 0.9935 - val_loss: 0.0230 - val_accuracy: 0.9935\n",
            "Epoch 16/30\n",
            "54000/54000 [==============================] - 5s 89us/sample - loss: 0.0157 - accuracy: 0.9943 - val_loss: 0.0280 - val_accuracy: 0.9908\n",
            "Epoch 17/30\n",
            "54000/54000 [==============================] - 5s 87us/sample - loss: 0.0184 - accuracy: 0.9939 - val_loss: 0.0310 - val_accuracy: 0.9893\n",
            "Epoch 18/30\n",
            "54000/54000 [==============================] - 5s 86us/sample - loss: 0.0160 - accuracy: 0.9950 - val_loss: 0.0322 - val_accuracy: 0.9913\n",
            "Epoch 19/30\n",
            "54000/54000 [==============================] - 5s 91us/sample - loss: 0.0163 - accuracy: 0.9943 - val_loss: 0.0265 - val_accuracy: 0.9920\n",
            "Epoch 20/30\n",
            "54000/54000 [==============================] - 5s 86us/sample - loss: 0.0171 - accuracy: 0.9943 - val_loss: 0.0349 - val_accuracy: 0.9905\n",
            "Epoch 21/30\n",
            "54000/54000 [==============================] - 5s 86us/sample - loss: 0.0158 - accuracy: 0.9943 - val_loss: 0.0307 - val_accuracy: 0.9915\n",
            "Epoch 22/30\n",
            "54000/54000 [==============================] - 5s 86us/sample - loss: 0.0155 - accuracy: 0.9946 - val_loss: 0.0339 - val_accuracy: 0.9908\n",
            "Epoch 23/30\n",
            "54000/54000 [==============================] - 5s 85us/sample - loss: 0.0166 - accuracy: 0.9948 - val_loss: 0.0350 - val_accuracy: 0.9903\n",
            "Epoch 24/30\n",
            "54000/54000 [==============================] - 5s 89us/sample - loss: 0.0147 - accuracy: 0.9948 - val_loss: 0.0425 - val_accuracy: 0.9893\n",
            "Epoch 25/30\n",
            "54000/54000 [==============================] - 5s 88us/sample - loss: 0.0163 - accuracy: 0.9942 - val_loss: 0.0331 - val_accuracy: 0.9898\n",
            "Epoch 26/30\n",
            "54000/54000 [==============================] - 5s 92us/sample - loss: 0.0130 - accuracy: 0.9959 - val_loss: 0.0311 - val_accuracy: 0.9918\n",
            "Epoch 27/30\n",
            "54000/54000 [==============================] - 5s 86us/sample - loss: 0.0145 - accuracy: 0.9951 - val_loss: 0.0365 - val_accuracy: 0.9908\n",
            "Epoch 28/30\n",
            "54000/54000 [==============================] - 5s 89us/sample - loss: 0.0149 - accuracy: 0.9949 - val_loss: 0.0448 - val_accuracy: 0.9902\n",
            "Epoch 29/30\n",
            "54000/54000 [==============================] - 5s 87us/sample - loss: 0.0158 - accuracy: 0.9947 - val_loss: 0.0380 - val_accuracy: 0.9912\n",
            "Epoch 30/30\n",
            "54000/54000 [==============================] - 5s 87us/sample - loss: 0.0128 - accuracy: 0.9954 - val_loss: 0.0378 - val_accuracy: 0.9887\n"
          ],
          "name": "stdout"
        }
      ]
    },
    {
      "cell_type": "code",
      "metadata": {
        "id": "F54PEpmygte_",
        "colab_type": "code",
        "outputId": "1c86dfc7-8133-46a6-9699-e477d45bf8ff",
        "colab": {
          "base_uri": "https://localhost:8080/",
          "height": 295
        }
      },
      "source": [
        "import matplotlib.pyplot as plt\n",
        "history_dict = history.history\n",
        "loss_values = history_dict['loss']\n",
        "val_loss_values = history_dict['val_loss']\n",
        "epochs = range(1, len(history_dict['accuracy']) + 1)\n",
        "plt.plot(epochs, loss_values, 'bo', label='Training loss')\n",
        "plt.plot(epochs, val_loss_values, 'b', label='Validation loss')\n",
        "plt.title('Training and validation loss')\n",
        "plt.xlabel('Epochs')\n",
        "plt.ylabel('Loss')\n",
        "plt.legend()\n",
        "plt.show()"
      ],
      "execution_count": 0,
      "outputs": [
        {
          "output_type": "display_data",
          "data": {
            "image/png": "[encoded data removed]",
            "text/plain": [
              "<Figure size 432x288 with 1 Axes>"
            ]
          },
          "metadata": {
            "tags": []
          }
        }
      ]
    },
    {
      "cell_type": "code",
      "metadata": {
        "id": "qpWe3_AZg2Wb",
        "colab_type": "code",
        "outputId": "f4f03a4d-f7e7-4dd6-b601-547f4bcc9905",
        "colab": {
          "base_uri": "https://localhost:8080/",
          "height": 295
        }
      },
      "source": [
        "plt.clf()\n",
        "acc_values = history_dict['accuracy']\n",
        "val_acc_values = history_dict['val_accuracy']\n",
        "plt.plot(epochs, history_dict['accuracy'], 'bo', label='Training acc')\n",
        "plt.plot(epochs, history_dict['val_accuracy'], 'b', label='Validation acc')\n",
        "plt.title('Training and validation accuracy')\n",
        "plt.xlabel('Epochs')\n",
        "\n",
        "plt.ylabel('Accuracy')\n",
        "plt.legend()\n",
        "plt.show()"
      ],
      "execution_count": 0,
      "outputs": [
        {
          "output_type": "display_data",
          "data": {
            "image/png": "[encoded data removed]",
            "text/plain": [
              "<Figure size 432x288 with 1 Axes>"
            ]
          },
          "metadata": {
            "tags": []
          }
        }
      ]
    }
  ]
}