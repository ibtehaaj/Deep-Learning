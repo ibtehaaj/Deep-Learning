{
  "nbformat": 4,
  "nbformat_minor": 0,
  "metadata": {
    "kernelspec": {
      "display_name": "Python 3",
      "language": "python",
      "name": "python3"
    },
    "language_info": {
      "codemirror_mode": {
        "name": "ipython",
        "version": 3
      },
      "file_extension": ".py",
      "mimetype": "text/x-python",
      "name": "python",
      "nbconvert_exporter": "python",
      "pygments_lexer": "ipython3",
      "version": "3.7.3"
    },
    "colab": {
      "name": "Concrete_Dataset.ipynb",
      "provenance": [],
      "collapsed_sections": [],
      "include_colab_link": true
    }
  },
  "cells": [
    {
      "cell_type": "markdown",
      "metadata": {
        "id": "view-in-github",
        "colab_type": "text"
      },
      "source": [
        "<a href=\"https://colab.research.google.com/github/ibtehaaj/Deep-Learning/blob/master/Concrete_Dataset.ipynb\" target=\"_parent\"><img src=\"https://colab.research.google.com/assets/colab-badge.svg\" alt=\"Open In Colab\"/></a>"
      ]
    },
    {
      "cell_type": "code",
      "metadata": {
        "id": "5FBMKpIRg6WE",
        "colab_type": "code",
        "colab": {}
      },
      "source": [
        "import tensorflow as tf\n",
        "tf.keras.backend.clear_session()  # For easy reset of notebook state.\n",
        "import pandas as pd\n",
        "import numpy as np\n",
        "import tensorflow as tf\n",
        "from sklearn.preprocessing import LabelEncoder\n",
        "# if tf.__version__ < \"2.0.0\":\n",
        "#   !pip install --upgrade tensorflow_gpu==2.0"
      ],
      "execution_count": 0,
      "outputs": []
    },
    {
      "cell_type": "code",
      "metadata": {
        "id": "ynmbpNGSg6WK",
        "colab_type": "code",
        "outputId": "9bf82c95-9393-47d5-90bc-3c431b2568c9",
        "colab": {
          "resources": {
            "http://localhost:8080/nbextensions/google.colab/files.js": {
              "data": "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",
              "ok": true,
              "headers": [
                [
                  "content-type",
                  "application/javascript"
                ]
              ],
              "status": 200,
              "status_text": "OK"
            }
          },
          "base_uri": "https://localhost:8080/",
          "height": 83
        }
      },
      "source": [
        "from google.colab import files\n",
        "uploaded = files.upload()\n",
        "import io"
      ],
      "execution_count": 25,
      "outputs": [
        {
          "output_type": "display_data",
          "data": {
            "text/html": [
              "\n",
              "     <input type=\"file\" id=\"files-78ab6bba-6fd3-49f9-adee-3e3a19a9cdc2\" name=\"files[]\" multiple disabled />\n",
              "     <output id=\"result-78ab6bba-6fd3-49f9-adee-3e3a19a9cdc2\">\n",
              "      Upload widget is only available when the cell has been executed in the\n",
              "      current browser session. Please rerun this cell to enable.\n",
              "      </output>\n",
              "      <script src=\"/nbextensions/google.colab/files.js\"></script> "
            ],
            "text/plain": [
              "<IPython.core.display.HTML object>"
            ]
          },
          "metadata": {
            "tags": []
          }
        },
        {
          "output_type": "stream",
          "text": [
            "Saving compresive_strength_concrete.csv to compresive_strength_concrete (2).csv\n"
          ],
          "name": "stdout"
        }
      ]
    },
    {
      "cell_type": "code",
      "metadata": {
        "id": "MtK3evjcNILO",
        "colab_type": "code",
        "colab": {
          "base_uri": "https://localhost:8080/",
          "height": 493
        },
        "outputId": "08b06370-0c23-432b-ee23-2d348c8682f8"
      },
      "source": [
        "pd.read_csv(io.BytesIO(uploaded[\"compresive_strength_concrete.csv\"]))\n",
        "dataset = pd.read_csv('compresive_strength_concrete.csv') \n",
        "dataset"
      ],
      "execution_count": 26,
      "outputs": [
        {
          "output_type": "execute_result",
          "data": {
            "text/html": [
              "<div>\n",
              "<style scoped>\n",
              "    .dataframe tbody tr th:only-of-type {\n",
              "        vertical-align: middle;\n",
              "    }\n",
              "\n",
              "    .dataframe tbody tr th {\n",
              "        vertical-align: top;\n",
              "    }\n",
              "\n",
              "    .dataframe thead th {\n",
              "        text-align: right;\n",
              "    }\n",
              "</style>\n",
              "<table border=\"1\" class=\"dataframe\">\n",
              "  <thead>\n",
              "    <tr style=\"text-align: right;\">\n",
              "      <th></th>\n",
              "      <th>Cement (component 1)(kg in a m^3 mixture)</th>\n",
              "      <th>Blast Furnace Slag (component 2)(kg in a m^3 mixture)</th>\n",
              "      <th>Fly Ash (component 3)(kg in a m^3 mixture)</th>\n",
              "      <th>Water  (component 4)(kg in a m^3 mixture)</th>\n",
              "      <th>Superplasticizer (component 5)(kg in a m^3 mixture)</th>\n",
              "      <th>Coarse Aggregate  (component 6)(kg in a m^3 mixture)</th>\n",
              "      <th>Fine Aggregate (component 7)(kg in a m^3 mixture)</th>\n",
              "      <th>Age (day)</th>\n",
              "      <th>Concrete compressive strength(MPa, megapascals)</th>\n",
              "    </tr>\n",
              "  </thead>\n",
              "  <tbody>\n",
              "    <tr>\n",
              "      <th>0</th>\n",
              "      <td>540.0</td>\n",
              "      <td>0.0</td>\n",
              "      <td>0.0</td>\n",
              "      <td>162.0</td>\n",
              "      <td>2.5</td>\n",
              "      <td>1040.0</td>\n",
              "      <td>676.0</td>\n",
              "      <td>28</td>\n",
              "      <td>79.99</td>\n",
              "    </tr>\n",
              "    <tr>\n",
              "      <th>1</th>\n",
              "      <td>540.0</td>\n",
              "      <td>0.0</td>\n",
              "      <td>0.0</td>\n",
              "      <td>162.0</td>\n",
              "      <td>2.5</td>\n",
              "      <td>1055.0</td>\n",
              "      <td>676.0</td>\n",
              "      <td>28</td>\n",
              "      <td>61.89</td>\n",
              "    </tr>\n",
              "    <tr>\n",
              "      <th>2</th>\n",
              "      <td>332.5</td>\n",
              "      <td>142.5</td>\n",
              "      <td>0.0</td>\n",
              "      <td>228.0</td>\n",
              "      <td>0.0</td>\n",
              "      <td>932.0</td>\n",
              "      <td>594.0</td>\n",
              "      <td>270</td>\n",
              "      <td>40.27</td>\n",
              "    </tr>\n",
              "    <tr>\n",
              "      <th>3</th>\n",
              "      <td>332.5</td>\n",
              "      <td>142.5</td>\n",
              "      <td>0.0</td>\n",
              "      <td>228.0</td>\n",
              "      <td>0.0</td>\n",
              "      <td>932.0</td>\n",
              "      <td>594.0</td>\n",
              "      <td>365</td>\n",
              "      <td>41.05</td>\n",
              "    </tr>\n",
              "    <tr>\n",
              "      <th>4</th>\n",
              "      <td>198.6</td>\n",
              "      <td>132.4</td>\n",
              "      <td>0.0</td>\n",
              "      <td>192.0</td>\n",
              "      <td>0.0</td>\n",
              "      <td>978.4</td>\n",
              "      <td>825.5</td>\n",
              "      <td>360</td>\n",
              "      <td>44.30</td>\n",
              "    </tr>\n",
              "    <tr>\n",
              "      <th>...</th>\n",
              "      <td>...</td>\n",
              "      <td>...</td>\n",
              "      <td>...</td>\n",
              "      <td>...</td>\n",
              "      <td>...</td>\n",
              "      <td>...</td>\n",
              "      <td>...</td>\n",
              "      <td>...</td>\n",
              "      <td>...</td>\n",
              "    </tr>\n",
              "    <tr>\n",
              "      <th>1025</th>\n",
              "      <td>276.4</td>\n",
              "      <td>116.0</td>\n",
              "      <td>90.3</td>\n",
              "      <td>179.6</td>\n",
              "      <td>8.9</td>\n",
              "      <td>870.1</td>\n",
              "      <td>768.3</td>\n",
              "      <td>28</td>\n",
              "      <td>44.28</td>\n",
              "    </tr>\n",
              "    <tr>\n",
              "      <th>1026</th>\n",
              "      <td>322.2</td>\n",
              "      <td>0.0</td>\n",
              "      <td>115.6</td>\n",
              "      <td>196.0</td>\n",
              "      <td>10.4</td>\n",
              "      <td>817.9</td>\n",
              "      <td>813.4</td>\n",
              "      <td>28</td>\n",
              "      <td>31.18</td>\n",
              "    </tr>\n",
              "    <tr>\n",
              "      <th>1027</th>\n",
              "      <td>148.5</td>\n",
              "      <td>139.4</td>\n",
              "      <td>108.6</td>\n",
              "      <td>192.7</td>\n",
              "      <td>6.1</td>\n",
              "      <td>892.4</td>\n",
              "      <td>780.0</td>\n",
              "      <td>28</td>\n",
              "      <td>23.70</td>\n",
              "    </tr>\n",
              "    <tr>\n",
              "      <th>1028</th>\n",
              "      <td>159.1</td>\n",
              "      <td>186.7</td>\n",
              "      <td>0.0</td>\n",
              "      <td>175.6</td>\n",
              "      <td>11.3</td>\n",
              "      <td>989.6</td>\n",
              "      <td>788.9</td>\n",
              "      <td>28</td>\n",
              "      <td>32.77</td>\n",
              "    </tr>\n",
              "    <tr>\n",
              "      <th>1029</th>\n",
              "      <td>260.9</td>\n",
              "      <td>100.5</td>\n",
              "      <td>78.3</td>\n",
              "      <td>200.6</td>\n",
              "      <td>8.6</td>\n",
              "      <td>864.5</td>\n",
              "      <td>761.5</td>\n",
              "      <td>28</td>\n",
              "      <td>32.40</td>\n",
              "    </tr>\n",
              "  </tbody>\n",
              "</table>\n",
              "<p>1030 rows × 9 columns</p>\n",
              "</div>"
            ],
            "text/plain": [
              "      Cement (component 1)(kg in a m^3 mixture)  ...  Concrete compressive strength(MPa, megapascals) \n",
              "0                                         540.0  ...                                             79.99\n",
              "1                                         540.0  ...                                             61.89\n",
              "2                                         332.5  ...                                             40.27\n",
              "3                                         332.5  ...                                             41.05\n",
              "4                                         198.6  ...                                             44.30\n",
              "...                                         ...  ...                                               ...\n",
              "1025                                      276.4  ...                                             44.28\n",
              "1026                                      322.2  ...                                             31.18\n",
              "1027                                      148.5  ...                                             23.70\n",
              "1028                                      159.1  ...                                             32.77\n",
              "1029                                      260.9  ...                                             32.40\n",
              "\n",
              "[1030 rows x 9 columns]"
            ]
          },
          "metadata": {
            "tags": []
          },
          "execution_count": 26
        }
      ]
    },
    {
      "cell_type": "code",
      "metadata": {
        "id": "gHDr9TyBO8Et",
        "colab_type": "code",
        "colab": {
          "base_uri": "https://localhost:8080/",
          "height": 34
        },
        "outputId": "7e67df54-a6d8-4228-b7c9-bf63ea1222cd"
      },
      "source": [
        "dataset.isnull().sum().sum()  #dataset did'nt contains any null values"
      ],
      "execution_count": 27,
      "outputs": [
        {
          "output_type": "execute_result",
          "data": {
            "text/plain": [
              "0"
            ]
          },
          "metadata": {
            "tags": []
          },
          "execution_count": 27
        }
      ]
    },
    {
      "cell_type": "code",
      "metadata": {
        "id": "3RWjUodjg6WO",
        "colab_type": "code",
        "outputId": "c411b856-9a6f-41d4-8c21-6721694190b3",
        "colab": {
          "base_uri": "https://localhost:8080/",
          "height": 139
        }
      },
      "source": [
        "data = dataset.values\n",
        "data"
      ],
      "execution_count": 28,
      "outputs": [
        {
          "output_type": "execute_result",
          "data": {
            "text/plain": [
              "array([[540.  ,   0.  ,   0.  , ..., 676.  ,  28.  ,  79.99],\n",
              "       [540.  ,   0.  ,   0.  , ..., 676.  ,  28.  ,  61.89],\n",
              "       [332.5 , 142.5 ,   0.  , ..., 594.  , 270.  ,  40.27],\n",
              "       ...,\n",
              "       [148.5 , 139.4 , 108.6 , ..., 780.  ,  28.  ,  23.7 ],\n",
              "       [159.1 , 186.7 ,   0.  , ..., 788.9 ,  28.  ,  32.77],\n",
              "       [260.9 , 100.5 ,  78.3 , ..., 761.5 ,  28.  ,  32.4 ]])"
            ]
          },
          "metadata": {
            "tags": []
          },
          "execution_count": 28
        }
      ]
    },
    {
      "cell_type": "code",
      "metadata": {
        "id": "q-QAvt0lg6WT",
        "colab_type": "code",
        "colab": {}
      },
      "source": [
        "x = data[:,:-1]\n",
        "y = data[:,-1:]"
      ],
      "execution_count": 0,
      "outputs": []
    },
    {
      "cell_type": "code",
      "metadata": {
        "id": "qdQE8lEkg6WW",
        "colab_type": "code",
        "colab": {}
      },
      "source": [
        "# splitting into test train and validation data\n",
        "from sklearn.model_selection import train_test_split\n",
        "x_train,x_test,y_train,y_test = train_test_split(x,y,test_size = 0.2)"
      ],
      "execution_count": 0,
      "outputs": []
    },
    {
      "cell_type": "code",
      "metadata": {
        "id": "qVP2pvhLSlsv",
        "colab_type": "code",
        "colab": {
          "base_uri": "https://localhost:8080/",
          "height": 34
        },
        "outputId": "b2f9e343-5e95-46e1-ebb4-93be55c93d62"
      },
      "source": [
        ""
      ],
      "execution_count": 40,
      "outputs": [
        {
          "output_type": "execute_result",
          "data": {
            "text/plain": [
              "(206, 8)"
            ]
          },
          "metadata": {
            "tags": []
          },
          "execution_count": 40
        }
      ]
    },
    {
      "cell_type": "code",
      "metadata": {
        "id": "WFl7cNYVg6WZ",
        "colab_type": "code",
        "colab": {}
      },
      "source": [
        "# normalizing dataset\n",
        "mean = x_train.mean(axis=0)\n",
        "x_train -= mean\n",
        "std = x_train.std(axis=0)\n",
        "x_train /=std\n",
        "x_test -= mean  \n",
        "x_test /= std"
      ],
      "execution_count": 0,
      "outputs": []
    },
    {
      "cell_type": "code",
      "metadata": {
        "id": "i4J1WFyPg6Wc",
        "colab_type": "code",
        "colab": {}
      },
      "source": [
        "x_val = x_train[724:]\n",
        "y_val = y_train[724:]\n",
        "#validation data\n",
        "partial_x_train = x_train[:724]\n",
        "partial_y_train = y_train[:724]"
      ],
      "execution_count": 0,
      "outputs": []
    },
    {
      "cell_type": "code",
      "metadata": {
        "id": "q33mHHKbg6Wf",
        "colab_type": "code",
        "colab": {}
      },
      "source": [
        "# defining the model\n",
        "model = tf.keras.models.Sequential([\n",
        "  tf.keras.layers.Dense(10,activation='relu',input_dim=8),\n",
        "  tf.keras.layers.Dense(8, activation='relu'),\n",
        "  tf.keras.layers.Dense(6, activation='relu'),\n",
        "  tf.keras.layers.Dense(1)\n",
        "])"
      ],
      "execution_count": 0,
      "outputs": []
    },
    {
      "cell_type": "code",
      "metadata": {
        "id": "gdzQQIu8jGyn",
        "colab_type": "code",
        "colab": {}
      },
      "source": [
        "# compiling the model\n",
        "model.compile(optimizer='adam',\n",
        "              loss='mse',\n",
        "              metrics=['mae'])"
      ],
      "execution_count": 0,
      "outputs": []
    },
    {
      "cell_type": "code",
      "metadata": {
        "id": "FfRh5TYmg6Wi",
        "colab_type": "code",
        "outputId": "1f8c97d5-cec9-4eea-ea92-1dd3fabc4e66",
        "colab": {
          "base_uri": "https://localhost:8080/",
          "height": 1000
        }
      },
      "source": [
        "history = model.fit(partial_x_train,partial_y_train,epochs=200,batch_size=80,validation_data=(x_val, y_val))"
      ],
      "execution_count": 35,
      "outputs": [
        {
          "output_type": "stream",
          "text": [
            "Train on 724 samples, validate on 100 samples\n",
            "Epoch 1/200\n",
            "724/724 [==============================] - 0s 665us/sample - loss: 1566.8013 - mae: 35.7657 - val_loss: 1546.8246 - val_mae: 36.1150\n",
            "Epoch 2/200\n",
            "724/724 [==============================] - 0s 47us/sample - loss: 1562.1952 - mae: 35.6979 - val_loss: 1543.2898 - val_mae: 36.0623\n",
            "Epoch 3/200\n",
            "724/724 [==============================] - 0s 45us/sample - loss: 1558.9872 - mae: 35.6505 - val_loss: 1540.4100 - val_mae: 36.0201\n",
            "Epoch 4/200\n",
            "724/724 [==============================] - 0s 40us/sample - loss: 1556.2786 - mae: 35.6104 - val_loss: 1537.6850 - val_mae: 35.9809\n",
            "Epoch 5/200\n",
            "724/724 [==============================] - 0s 41us/sample - loss: 1553.7272 - mae: 35.5721 - val_loss: 1534.8030 - val_mae: 35.9389\n",
            "Epoch 6/200\n",
            "724/724 [==============================] - 0s 42us/sample - loss: 1550.7447 - mae: 35.5280 - val_loss: 1531.3404 - val_mae: 35.8886\n",
            "Epoch 7/200\n",
            "724/724 [==============================] - 0s 45us/sample - loss: 1547.0508 - mae: 35.4737 - val_loss: 1527.2459 - val_mae: 35.8283\n",
            "Epoch 8/200\n",
            "724/724 [==============================] - 0s 44us/sample - loss: 1542.3445 - mae: 35.4031 - val_loss: 1521.7307 - val_mae: 35.7484\n",
            "Epoch 9/200\n",
            "724/724 [==============================] - 0s 43us/sample - loss: 1536.2523 - mae: 35.3115 - val_loss: 1514.6934 - val_mae: 35.6456\n",
            "Epoch 10/200\n",
            "724/724 [==============================] - 0s 46us/sample - loss: 1528.4988 - mae: 35.1945 - val_loss: 1505.6500 - val_mae: 35.5121\n",
            "Epoch 11/200\n",
            "724/724 [==============================] - 0s 53us/sample - loss: 1519.1182 - mae: 35.0527 - val_loss: 1494.9992 - val_mae: 35.3540\n",
            "Epoch 12/200\n",
            "724/724 [==============================] - 0s 42us/sample - loss: 1508.3823 - mae: 34.8887 - val_loss: 1482.9793 - val_mae: 35.1751\n",
            "Epoch 13/200\n",
            "724/724 [==============================] - 0s 45us/sample - loss: 1496.1498 - mae: 34.7036 - val_loss: 1469.4489 - val_mae: 34.9735\n",
            "Epoch 14/200\n",
            "724/724 [==============================] - 0s 45us/sample - loss: 1482.7241 - mae: 34.4982 - val_loss: 1454.1171 - val_mae: 34.7459\n",
            "Epoch 15/200\n",
            "724/724 [==============================] - 0s 42us/sample - loss: 1467.4578 - mae: 34.2644 - val_loss: 1437.4634 - val_mae: 34.4975\n",
            "Epoch 16/200\n",
            "724/724 [==============================] - 0s 56us/sample - loss: 1450.3198 - mae: 34.0089 - val_loss: 1418.9910 - val_mae: 34.2206\n",
            "Epoch 17/200\n",
            "724/724 [==============================] - 0s 42us/sample - loss: 1430.9884 - mae: 33.7171 - val_loss: 1398.3330 - val_mae: 33.9096\n",
            "Epoch 18/200\n",
            "724/724 [==============================] - 0s 42us/sample - loss: 1409.7126 - mae: 33.3947 - val_loss: 1375.9376 - val_mae: 33.5701\n",
            "Epoch 19/200\n",
            "724/724 [==============================] - 0s 41us/sample - loss: 1386.6398 - mae: 33.0439 - val_loss: 1351.4579 - val_mae: 33.1960\n",
            "Epoch 20/200\n",
            "724/724 [==============================] - 0s 43us/sample - loss: 1361.1733 - mae: 32.6533 - val_loss: 1323.8681 - val_mae: 32.7729\n",
            "Epoch 21/200\n",
            "724/724 [==============================] - 0s 44us/sample - loss: 1332.2987 - mae: 32.2128 - val_loss: 1292.8172 - val_mae: 32.2940\n",
            "Epoch 22/200\n",
            "724/724 [==============================] - 0s 40us/sample - loss: 1299.9324 - mae: 31.7074 - val_loss: 1258.3675 - val_mae: 31.7521\n",
            "Epoch 23/200\n",
            "724/724 [==============================] - 0s 42us/sample - loss: 1264.2493 - mae: 31.1485 - val_loss: 1219.9695 - val_mae: 31.1394\n",
            "Epoch 24/200\n",
            "724/724 [==============================] - 0s 43us/sample - loss: 1224.8286 - mae: 30.5222 - val_loss: 1178.0789 - val_mae: 30.4723\n",
            "Epoch 25/200\n",
            "724/724 [==============================] - 0s 49us/sample - loss: 1180.7975 - mae: 29.8012 - val_loss: 1129.8061 - val_mae: 29.6909\n",
            "Epoch 26/200\n",
            "724/724 [==============================] - 0s 45us/sample - loss: 1130.7975 - mae: 28.9759 - val_loss: 1075.7949 - val_mae: 28.7863\n",
            "Epoch 27/200\n",
            "724/724 [==============================] - 0s 46us/sample - loss: 1075.9912 - mae: 28.0665 - val_loss: 1016.7978 - val_mae: 27.7683\n",
            "Epoch 28/200\n",
            "724/724 [==============================] - 0s 48us/sample - loss: 1015.0396 - mae: 27.0290 - val_loss: 952.4231 - val_mae: 26.6227\n",
            "Epoch 29/200\n",
            "724/724 [==============================] - 0s 41us/sample - loss: 949.8894 - mae: 25.8854 - val_loss: 883.5642 - val_mae: 25.3854\n",
            "Epoch 30/200\n",
            "724/724 [==============================] - 0s 44us/sample - loss: 879.8940 - mae: 24.6675 - val_loss: 811.5131 - val_mae: 24.0913\n",
            "Epoch 31/200\n",
            "724/724 [==============================] - 0s 44us/sample - loss: 806.6177 - mae: 23.3820 - val_loss: 738.0452 - val_mae: 22.8185\n",
            "Epoch 32/200\n",
            "724/724 [==============================] - 0s 58us/sample - loss: 732.9154 - mae: 22.0867 - val_loss: 665.9317 - val_mae: 21.5587\n",
            "Epoch 33/200\n",
            "724/724 [==============================] - 0s 45us/sample - loss: 661.2269 - mae: 20.7671 - val_loss: 593.9795 - val_mae: 20.2186\n",
            "Epoch 34/200\n",
            "724/724 [==============================] - 0s 46us/sample - loss: 588.7937 - mae: 19.4307 - val_loss: 525.1394 - val_mae: 18.8402\n",
            "Epoch 35/200\n",
            "724/724 [==============================] - 0s 43us/sample - loss: 521.9742 - mae: 18.1437 - val_loss: 461.8063 - val_mae: 17.6179\n",
            "Epoch 36/200\n",
            "724/724 [==============================] - 0s 47us/sample - loss: 461.9867 - mae: 16.9652 - val_loss: 405.4020 - val_mae: 16.4925\n",
            "Epoch 37/200\n",
            "724/724 [==============================] - 0s 45us/sample - loss: 412.1587 - mae: 15.9835 - val_loss: 360.4482 - val_mae: 15.5909\n",
            "Epoch 38/200\n",
            "724/724 [==============================] - 0s 41us/sample - loss: 371.3749 - mae: 15.1698 - val_loss: 324.6354 - val_mae: 14.8113\n",
            "Epoch 39/200\n",
            "724/724 [==============================] - 0s 47us/sample - loss: 337.6033 - mae: 14.5043 - val_loss: 295.8164 - val_mae: 14.2320\n",
            "Epoch 40/200\n",
            "724/724 [==============================] - 0s 45us/sample - loss: 311.8438 - mae: 14.0225 - val_loss: 270.8400 - val_mae: 13.7625\n",
            "Epoch 41/200\n",
            "724/724 [==============================] - 0s 48us/sample - loss: 290.8721 - mae: 13.6103 - val_loss: 250.4846 - val_mae: 13.3406\n",
            "Epoch 42/200\n",
            "724/724 [==============================] - 0s 50us/sample - loss: 273.4447 - mae: 13.2309 - val_loss: 234.0949 - val_mae: 12.9383\n",
            "Epoch 43/200\n",
            "724/724 [==============================] - 0s 45us/sample - loss: 260.2562 - mae: 12.9199 - val_loss: 219.6915 - val_mae: 12.5472\n",
            "Epoch 44/200\n",
            "724/724 [==============================] - 0s 42us/sample - loss: 248.7228 - mae: 12.6168 - val_loss: 209.7158 - val_mae: 12.2686\n",
            "Epoch 45/200\n",
            "724/724 [==============================] - 0s 45us/sample - loss: 238.7870 - mae: 12.3460 - val_loss: 199.7448 - val_mae: 11.9646\n",
            "Epoch 46/200\n",
            "724/724 [==============================] - 0s 42us/sample - loss: 230.5284 - mae: 12.1169 - val_loss: 192.7876 - val_mae: 11.7373\n",
            "Epoch 47/200\n",
            "724/724 [==============================] - 0s 51us/sample - loss: 223.6882 - mae: 11.9383 - val_loss: 187.0164 - val_mae: 11.5579\n",
            "Epoch 48/200\n",
            "724/724 [==============================] - 0s 61us/sample - loss: 218.4003 - mae: 11.8039 - val_loss: 183.0412 - val_mae: 11.4626\n",
            "Epoch 49/200\n",
            "724/724 [==============================] - 0s 41us/sample - loss: 213.7600 - mae: 11.6861 - val_loss: 179.7216 - val_mae: 11.3892\n",
            "Epoch 50/200\n",
            "724/724 [==============================] - 0s 41us/sample - loss: 209.8880 - mae: 11.5914 - val_loss: 176.3786 - val_mae: 11.2891\n",
            "Epoch 51/200\n",
            "724/724 [==============================] - 0s 42us/sample - loss: 206.6613 - mae: 11.5043 - val_loss: 173.7913 - val_mae: 11.2118\n",
            "Epoch 52/200\n",
            "724/724 [==============================] - 0s 41us/sample - loss: 203.8552 - mae: 11.4349 - val_loss: 171.7246 - val_mae: 11.1528\n",
            "Epoch 53/200\n",
            "724/724 [==============================] - 0s 41us/sample - loss: 200.9728 - mae: 11.3650 - val_loss: 168.8893 - val_mae: 11.0715\n",
            "Epoch 54/200\n",
            "724/724 [==============================] - 0s 41us/sample - loss: 199.1419 - mae: 11.3252 - val_loss: 167.9702 - val_mae: 11.0374\n",
            "Epoch 55/200\n",
            "724/724 [==============================] - 0s 43us/sample - loss: 196.9325 - mae: 11.2748 - val_loss: 165.6536 - val_mae: 10.9584\n",
            "Epoch 56/200\n",
            "724/724 [==============================] - 0s 43us/sample - loss: 194.2125 - mae: 11.2120 - val_loss: 162.5798 - val_mae: 10.8561\n",
            "Epoch 57/200\n",
            "724/724 [==============================] - 0s 44us/sample - loss: 191.4781 - mae: 11.1419 - val_loss: 159.3908 - val_mae: 10.7516\n",
            "Epoch 58/200\n",
            "724/724 [==============================] - 0s 42us/sample - loss: 189.1897 - mae: 11.0762 - val_loss: 157.4404 - val_mae: 10.6800\n",
            "Epoch 59/200\n",
            "724/724 [==============================] - 0s 42us/sample - loss: 187.4329 - mae: 11.0265 - val_loss: 155.8864 - val_mae: 10.6241\n",
            "Epoch 60/200\n",
            "724/724 [==============================] - 0s 44us/sample - loss: 185.8320 - mae: 10.9812 - val_loss: 154.4728 - val_mae: 10.5761\n",
            "Epoch 61/200\n",
            "724/724 [==============================] - 0s 43us/sample - loss: 184.3896 - mae: 10.9404 - val_loss: 152.8832 - val_mae: 10.5207\n",
            "Epoch 62/200\n",
            "724/724 [==============================] - 0s 52us/sample - loss: 182.8689 - mae: 10.9026 - val_loss: 151.5290 - val_mae: 10.4723\n",
            "Epoch 63/200\n",
            "724/724 [==============================] - 0s 40us/sample - loss: 181.4021 - mae: 10.8635 - val_loss: 149.8407 - val_mae: 10.4017\n",
            "Epoch 64/200\n",
            "724/724 [==============================] - 0s 45us/sample - loss: 180.2071 - mae: 10.8234 - val_loss: 148.7454 - val_mae: 10.3518\n",
            "Epoch 65/200\n",
            "724/724 [==============================] - 0s 39us/sample - loss: 178.4823 - mae: 10.7835 - val_loss: 148.8275 - val_mae: 10.3773\n",
            "Epoch 66/200\n",
            "724/724 [==============================] - 0s 41us/sample - loss: 177.3870 - mae: 10.7629 - val_loss: 148.4599 - val_mae: 10.3594\n",
            "Epoch 67/200\n",
            "724/724 [==============================] - 0s 40us/sample - loss: 176.1251 - mae: 10.7312 - val_loss: 147.4335 - val_mae: 10.3326\n",
            "Epoch 68/200\n",
            "724/724 [==============================] - 0s 44us/sample - loss: 175.0344 - mae: 10.6986 - val_loss: 145.8819 - val_mae: 10.2880\n",
            "Epoch 69/200\n",
            "724/724 [==============================] - 0s 42us/sample - loss: 173.8717 - mae: 10.6608 - val_loss: 145.0872 - val_mae: 10.2666\n",
            "Epoch 70/200\n",
            "724/724 [==============================] - 0s 43us/sample - loss: 172.9136 - mae: 10.6448 - val_loss: 145.8337 - val_mae: 10.3113\n",
            "Epoch 71/200\n",
            "724/724 [==============================] - 0s 44us/sample - loss: 171.9905 - mae: 10.6323 - val_loss: 145.3724 - val_mae: 10.2708\n",
            "Epoch 72/200\n",
            "724/724 [==============================] - 0s 43us/sample - loss: 170.8265 - mae: 10.5952 - val_loss: 144.4654 - val_mae: 10.2210\n",
            "Epoch 73/200\n",
            "724/724 [==============================] - 0s 49us/sample - loss: 169.7632 - mae: 10.5581 - val_loss: 143.6848 - val_mae: 10.1757\n",
            "Epoch 74/200\n",
            "724/724 [==============================] - 0s 44us/sample - loss: 168.6908 - mae: 10.5285 - val_loss: 142.8086 - val_mae: 10.1458\n",
            "Epoch 75/200\n",
            "724/724 [==============================] - 0s 45us/sample - loss: 167.7179 - mae: 10.4992 - val_loss: 141.8727 - val_mae: 10.1078\n",
            "Epoch 76/200\n",
            "724/724 [==============================] - 0s 43us/sample - loss: 166.9927 - mae: 10.4702 - val_loss: 141.0582 - val_mae: 10.0733\n",
            "Epoch 77/200\n",
            "724/724 [==============================] - 0s 46us/sample - loss: 166.0581 - mae: 10.4373 - val_loss: 140.6824 - val_mae: 10.0641\n",
            "Epoch 78/200\n",
            "724/724 [==============================] - 0s 44us/sample - loss: 165.1507 - mae: 10.4193 - val_loss: 141.1435 - val_mae: 10.0732\n",
            "Epoch 79/200\n",
            "724/724 [==============================] - 0s 46us/sample - loss: 164.3810 - mae: 10.4135 - val_loss: 141.7677 - val_mae: 10.1090\n",
            "Epoch 80/200\n",
            "724/724 [==============================] - 0s 45us/sample - loss: 163.7299 - mae: 10.4034 - val_loss: 141.0768 - val_mae: 10.0996\n",
            "Epoch 81/200\n",
            "724/724 [==============================] - 0s 51us/sample - loss: 162.9751 - mae: 10.3811 - val_loss: 140.3184 - val_mae: 10.0773\n",
            "Epoch 82/200\n",
            "724/724 [==============================] - 0s 46us/sample - loss: 162.2790 - mae: 10.3572 - val_loss: 139.4361 - val_mae: 10.0516\n",
            "Epoch 83/200\n",
            "724/724 [==============================] - 0s 41us/sample - loss: 161.5535 - mae: 10.3302 - val_loss: 138.7195 - val_mae: 10.0155\n",
            "Epoch 84/200\n",
            "724/724 [==============================] - 0s 44us/sample - loss: 160.7574 - mae: 10.2974 - val_loss: 137.8811 - val_mae: 9.9590\n",
            "Epoch 85/200\n",
            "724/724 [==============================] - 0s 39us/sample - loss: 160.1022 - mae: 10.2688 - val_loss: 137.2666 - val_mae: 9.9002\n",
            "Epoch 86/200\n",
            "724/724 [==============================] - 0s 47us/sample - loss: 159.3724 - mae: 10.2399 - val_loss: 136.4733 - val_mae: 9.8697\n",
            "Epoch 87/200\n",
            "724/724 [==============================] - 0s 44us/sample - loss: 158.8531 - mae: 10.2192 - val_loss: 135.8662 - val_mae: 9.8383\n",
            "Epoch 88/200\n",
            "724/724 [==============================] - 0s 44us/sample - loss: 158.3308 - mae: 10.1975 - val_loss: 135.2493 - val_mae: 9.8041\n",
            "Epoch 89/200\n",
            "724/724 [==============================] - 0s 48us/sample - loss: 157.5834 - mae: 10.1653 - val_loss: 134.7938 - val_mae: 9.7705\n",
            "Epoch 90/200\n",
            "724/724 [==============================] - 0s 42us/sample - loss: 157.0607 - mae: 10.1372 - val_loss: 134.2303 - val_mae: 9.7328\n",
            "Epoch 91/200\n",
            "724/724 [==============================] - 0s 42us/sample - loss: 156.4831 - mae: 10.1158 - val_loss: 133.5187 - val_mae: 9.6856\n",
            "Epoch 92/200\n",
            "724/724 [==============================] - 0s 45us/sample - loss: 155.8476 - mae: 10.0929 - val_loss: 132.7103 - val_mae: 9.6566\n",
            "Epoch 93/200\n",
            "724/724 [==============================] - 0s 51us/sample - loss: 155.1276 - mae: 10.0711 - val_loss: 132.3367 - val_mae: 9.6344\n",
            "Epoch 94/200\n",
            "724/724 [==============================] - 0s 46us/sample - loss: 154.4385 - mae: 10.0493 - val_loss: 132.1554 - val_mae: 9.6246\n",
            "Epoch 95/200\n",
            "724/724 [==============================] - 0s 45us/sample - loss: 154.0341 - mae: 10.0345 - val_loss: 131.8261 - val_mae: 9.6072\n",
            "Epoch 96/200\n",
            "724/724 [==============================] - 0s 42us/sample - loss: 153.5247 - mae: 10.0145 - val_loss: 131.2635 - val_mae: 9.5760\n",
            "Epoch 97/200\n",
            "724/724 [==============================] - 0s 41us/sample - loss: 152.9644 - mae: 9.9938 - val_loss: 130.7945 - val_mae: 9.5620\n",
            "Epoch 98/200\n",
            "724/724 [==============================] - 0s 44us/sample - loss: 152.3484 - mae: 9.9733 - val_loss: 130.2312 - val_mae: 9.5396\n",
            "Epoch 99/200\n",
            "724/724 [==============================] - 0s 44us/sample - loss: 152.0175 - mae: 9.9664 - val_loss: 129.8389 - val_mae: 9.5388\n",
            "Epoch 100/200\n",
            "724/724 [==============================] - 0s 46us/sample - loss: 151.2960 - mae: 9.9459 - val_loss: 129.5318 - val_mae: 9.5229\n",
            "Epoch 101/200\n",
            "724/724 [==============================] - 0s 43us/sample - loss: 150.7363 - mae: 9.9313 - val_loss: 129.5996 - val_mae: 9.5330\n",
            "Epoch 102/200\n",
            "724/724 [==============================] - 0s 47us/sample - loss: 150.1219 - mae: 9.9186 - val_loss: 129.7900 - val_mae: 9.5503\n",
            "Epoch 103/200\n",
            "724/724 [==============================] - 0s 44us/sample - loss: 149.5207 - mae: 9.9030 - val_loss: 129.3110 - val_mae: 9.5317\n",
            "Epoch 104/200\n",
            "724/724 [==============================] - 0s 44us/sample - loss: 148.9529 - mae: 9.8869 - val_loss: 129.1078 - val_mae: 9.5288\n",
            "Epoch 105/200\n",
            "724/724 [==============================] - 0s 46us/sample - loss: 148.5129 - mae: 9.8742 - val_loss: 128.8635 - val_mae: 9.5177\n",
            "Epoch 106/200\n",
            "724/724 [==============================] - 0s 44us/sample - loss: 148.3652 - mae: 9.8729 - val_loss: 129.9351 - val_mae: 9.5622\n",
            "Epoch 107/200\n",
            "724/724 [==============================] - 0s 48us/sample - loss: 148.1763 - mae: 9.8709 - val_loss: 129.8869 - val_mae: 9.5627\n",
            "Epoch 108/200\n",
            "724/724 [==============================] - 0s 43us/sample - loss: 147.3770 - mae: 9.8461 - val_loss: 128.7492 - val_mae: 9.5248\n",
            "Epoch 109/200\n",
            "724/724 [==============================] - 0s 45us/sample - loss: 146.3851 - mae: 9.8193 - val_loss: 128.1386 - val_mae: 9.4989\n",
            "Epoch 110/200\n",
            "724/724 [==============================] - 0s 44us/sample - loss: 145.7862 - mae: 9.7990 - val_loss: 128.2632 - val_mae: 9.5085\n",
            "Epoch 111/200\n",
            "724/724 [==============================] - 0s 43us/sample - loss: 145.2372 - mae: 9.7802 - val_loss: 127.6765 - val_mae: 9.4835\n",
            "Epoch 112/200\n",
            "724/724 [==============================] - 0s 41us/sample - loss: 144.8177 - mae: 9.7626 - val_loss: 127.6314 - val_mae: 9.4821\n",
            "Epoch 113/200\n",
            "724/724 [==============================] - 0s 50us/sample - loss: 144.3030 - mae: 9.7432 - val_loss: 127.4129 - val_mae: 9.4742\n",
            "Epoch 114/200\n",
            "724/724 [==============================] - 0s 41us/sample - loss: 143.7166 - mae: 9.7212 - val_loss: 126.4923 - val_mae: 9.4296\n",
            "Epoch 115/200\n",
            "724/724 [==============================] - 0s 41us/sample - loss: 143.0660 - mae: 9.6850 - val_loss: 125.8256 - val_mae: 9.3972\n",
            "Epoch 116/200\n",
            "724/724 [==============================] - 0s 41us/sample - loss: 142.6705 - mae: 9.6669 - val_loss: 125.2026 - val_mae: 9.3673\n",
            "Epoch 117/200\n",
            "724/724 [==============================] - 0s 46us/sample - loss: 141.9532 - mae: 9.6435 - val_loss: 124.8353 - val_mae: 9.3643\n",
            "Epoch 118/200\n",
            "724/724 [==============================] - 0s 43us/sample - loss: 141.6068 - mae: 9.6282 - val_loss: 124.2239 - val_mae: 9.3498\n",
            "Epoch 119/200\n",
            "724/724 [==============================] - 0s 47us/sample - loss: 141.1150 - mae: 9.6107 - val_loss: 123.9698 - val_mae: 9.3469\n",
            "Epoch 120/200\n",
            "724/724 [==============================] - 0s 39us/sample - loss: 140.7003 - mae: 9.6053 - val_loss: 123.3235 - val_mae: 9.3184\n",
            "Epoch 121/200\n",
            "724/724 [==============================] - 0s 45us/sample - loss: 140.1540 - mae: 9.5670 - val_loss: 122.2678 - val_mae: 9.2413\n",
            "Epoch 122/200\n",
            "724/724 [==============================] - 0s 44us/sample - loss: 139.6308 - mae: 9.5282 - val_loss: 121.3409 - val_mae: 9.1972\n",
            "Epoch 123/200\n",
            "724/724 [==============================] - 0s 44us/sample - loss: 139.0322 - mae: 9.5055 - val_loss: 120.5850 - val_mae: 9.1578\n",
            "Epoch 124/200\n",
            "724/724 [==============================] - 0s 45us/sample - loss: 138.5246 - mae: 9.4906 - val_loss: 120.6424 - val_mae: 9.1578\n",
            "Epoch 125/200\n",
            "724/724 [==============================] - 0s 46us/sample - loss: 137.9946 - mae: 9.4839 - val_loss: 120.6562 - val_mae: 9.1598\n",
            "Epoch 126/200\n",
            "724/724 [==============================] - 0s 44us/sample - loss: 137.5971 - mae: 9.4664 - val_loss: 120.2212 - val_mae: 9.1159\n",
            "Epoch 127/200\n",
            "724/724 [==============================] - 0s 45us/sample - loss: 136.9515 - mae: 9.4302 - val_loss: 119.7343 - val_mae: 9.0844\n",
            "Epoch 128/200\n",
            "724/724 [==============================] - 0s 44us/sample - loss: 136.4206 - mae: 9.4080 - val_loss: 119.4702 - val_mae: 9.0619\n",
            "Epoch 129/200\n",
            "724/724 [==============================] - 0s 44us/sample - loss: 135.8343 - mae: 9.3833 - val_loss: 119.1241 - val_mae: 9.0389\n",
            "Epoch 130/200\n",
            "724/724 [==============================] - 0s 42us/sample - loss: 135.3346 - mae: 9.3654 - val_loss: 118.9640 - val_mae: 9.0093\n",
            "Epoch 131/200\n",
            "724/724 [==============================] - 0s 44us/sample - loss: 135.0531 - mae: 9.3633 - val_loss: 120.1048 - val_mae: 9.0779\n",
            "Epoch 132/200\n",
            "724/724 [==============================] - 0s 41us/sample - loss: 134.8017 - mae: 9.3700 - val_loss: 120.0555 - val_mae: 9.0839\n",
            "Epoch 133/200\n",
            "724/724 [==============================] - 0s 44us/sample - loss: 134.3262 - mae: 9.3567 - val_loss: 119.5350 - val_mae: 9.0627\n",
            "Epoch 134/200\n",
            "724/724 [==============================] - 0s 45us/sample - loss: 133.7820 - mae: 9.3413 - val_loss: 119.0219 - val_mae: 9.0560\n",
            "Epoch 135/200\n",
            "724/724 [==============================] - 0s 41us/sample - loss: 133.3372 - mae: 9.3323 - val_loss: 117.9692 - val_mae: 9.0265\n",
            "Epoch 136/200\n",
            "724/724 [==============================] - 0s 42us/sample - loss: 132.7138 - mae: 9.3054 - val_loss: 117.0641 - val_mae: 8.9765\n",
            "Epoch 137/200\n",
            "724/724 [==============================] - 0s 43us/sample - loss: 132.1998 - mae: 9.2826 - val_loss: 115.8750 - val_mae: 8.9192\n",
            "Epoch 138/200\n",
            "724/724 [==============================] - 0s 48us/sample - loss: 131.9801 - mae: 9.2765 - val_loss: 115.8792 - val_mae: 8.9323\n",
            "Epoch 139/200\n",
            "724/724 [==============================] - 0s 49us/sample - loss: 131.7180 - mae: 9.2659 - val_loss: 115.5530 - val_mae: 8.9115\n",
            "Epoch 140/200\n",
            "724/724 [==============================] - 0s 48us/sample - loss: 131.0886 - mae: 9.2362 - val_loss: 114.6861 - val_mae: 8.8517\n",
            "Epoch 141/200\n",
            "724/724 [==============================] - 0s 47us/sample - loss: 130.4265 - mae: 9.2069 - val_loss: 114.2501 - val_mae: 8.8166\n",
            "Epoch 142/200\n",
            "724/724 [==============================] - 0s 43us/sample - loss: 130.2198 - mae: 9.1916 - val_loss: 113.9358 - val_mae: 8.7877\n",
            "Epoch 143/200\n",
            "724/724 [==============================] - 0s 46us/sample - loss: 129.6561 - mae: 9.1656 - val_loss: 113.7552 - val_mae: 8.7690\n",
            "Epoch 144/200\n",
            "724/724 [==============================] - 0s 45us/sample - loss: 128.9620 - mae: 9.1467 - val_loss: 114.0166 - val_mae: 8.7917\n",
            "Epoch 145/200\n",
            "724/724 [==============================] - 0s 42us/sample - loss: 128.6910 - mae: 9.1377 - val_loss: 114.0339 - val_mae: 8.8055\n",
            "Epoch 146/200\n",
            "724/724 [==============================] - 0s 46us/sample - loss: 128.1971 - mae: 9.1177 - val_loss: 113.4862 - val_mae: 8.7823\n",
            "Epoch 147/200\n",
            "724/724 [==============================] - 0s 48us/sample - loss: 127.8950 - mae: 9.1045 - val_loss: 113.2640 - val_mae: 8.7624\n",
            "Epoch 148/200\n",
            "724/724 [==============================] - 0s 45us/sample - loss: 127.7814 - mae: 9.0844 - val_loss: 112.6942 - val_mae: 8.7099\n",
            "Epoch 149/200\n",
            "724/724 [==============================] - 0s 46us/sample - loss: 127.2100 - mae: 9.0508 - val_loss: 112.1182 - val_mae: 8.6756\n",
            "Epoch 150/200\n",
            "724/724 [==============================] - 0s 45us/sample - loss: 126.7106 - mae: 9.0322 - val_loss: 111.4674 - val_mae: 8.6670\n",
            "Epoch 151/200\n",
            "724/724 [==============================] - 0s 43us/sample - loss: 126.7231 - mae: 9.0412 - val_loss: 110.8129 - val_mae: 8.6545\n",
            "Epoch 152/200\n",
            "724/724 [==============================] - 0s 44us/sample - loss: 126.2537 - mae: 9.0213 - val_loss: 110.2724 - val_mae: 8.6349\n",
            "Epoch 153/200\n",
            "724/724 [==============================] - 0s 44us/sample - loss: 125.8438 - mae: 9.0097 - val_loss: 110.2386 - val_mae: 8.6448\n",
            "Epoch 154/200\n",
            "724/724 [==============================] - 0s 55us/sample - loss: 125.1706 - mae: 8.9819 - val_loss: 109.9067 - val_mae: 8.6088\n",
            "Epoch 155/200\n",
            "724/724 [==============================] - 0s 46us/sample - loss: 124.7083 - mae: 8.9481 - val_loss: 109.5600 - val_mae: 8.5737\n",
            "Epoch 156/200\n",
            "724/724 [==============================] - 0s 47us/sample - loss: 124.3042 - mae: 8.9267 - val_loss: 109.1187 - val_mae: 8.5643\n",
            "Epoch 157/200\n",
            "724/724 [==============================] - 0s 48us/sample - loss: 123.8660 - mae: 8.9098 - val_loss: 108.5821 - val_mae: 8.5461\n",
            "Epoch 158/200\n",
            "724/724 [==============================] - 0s 46us/sample - loss: 123.7188 - mae: 8.9259 - val_loss: 108.6464 - val_mae: 8.5606\n",
            "Epoch 159/200\n",
            "724/724 [==============================] - 0s 48us/sample - loss: 123.6505 - mae: 8.9350 - val_loss: 107.9705 - val_mae: 8.5089\n",
            "Epoch 160/200\n",
            "724/724 [==============================] - 0s 45us/sample - loss: 122.8808 - mae: 8.8772 - val_loss: 107.4508 - val_mae: 8.4301\n",
            "Epoch 161/200\n",
            "724/724 [==============================] - 0s 43us/sample - loss: 122.4072 - mae: 8.8401 - val_loss: 106.7648 - val_mae: 8.4077\n",
            "Epoch 162/200\n",
            "724/724 [==============================] - 0s 44us/sample - loss: 121.8161 - mae: 8.8180 - val_loss: 106.0813 - val_mae: 8.4028\n",
            "Epoch 163/200\n",
            "724/724 [==============================] - 0s 42us/sample - loss: 121.6941 - mae: 8.8193 - val_loss: 105.3225 - val_mae: 8.3913\n",
            "Epoch 164/200\n",
            "724/724 [==============================] - 0s 42us/sample - loss: 121.0569 - mae: 8.7919 - val_loss: 104.4340 - val_mae: 8.3327\n",
            "Epoch 165/200\n",
            "724/724 [==============================] - 0s 49us/sample - loss: 120.6908 - mae: 8.7626 - val_loss: 103.9418 - val_mae: 8.2862\n",
            "Epoch 166/200\n",
            "724/724 [==============================] - 0s 47us/sample - loss: 120.2942 - mae: 8.7302 - val_loss: 103.4105 - val_mae: 8.2433\n",
            "Epoch 167/200\n",
            "724/724 [==============================] - 0s 43us/sample - loss: 120.2060 - mae: 8.7156 - val_loss: 103.1818 - val_mae: 8.2206\n",
            "Epoch 168/200\n",
            "724/724 [==============================] - 0s 44us/sample - loss: 119.7206 - mae: 8.7019 - val_loss: 102.8768 - val_mae: 8.2301\n",
            "Epoch 169/200\n",
            "724/724 [==============================] - 0s 43us/sample - loss: 119.3609 - mae: 8.7047 - val_loss: 102.2961 - val_mae: 8.2197\n",
            "Epoch 170/200\n",
            "724/724 [==============================] - 0s 46us/sample - loss: 119.0335 - mae: 8.7040 - val_loss: 101.7369 - val_mae: 8.1867\n",
            "Epoch 171/200\n",
            "724/724 [==============================] - 0s 44us/sample - loss: 118.6558 - mae: 8.6846 - val_loss: 101.4407 - val_mae: 8.1662\n",
            "Epoch 172/200\n",
            "724/724 [==============================] - 0s 46us/sample - loss: 118.0875 - mae: 8.6638 - val_loss: 101.8474 - val_mae: 8.1909\n",
            "Epoch 173/200\n",
            "724/724 [==============================] - 0s 47us/sample - loss: 117.6864 - mae: 8.6523 - val_loss: 101.6203 - val_mae: 8.1917\n",
            "Epoch 174/200\n",
            "724/724 [==============================] - 0s 49us/sample - loss: 118.0276 - mae: 8.6659 - val_loss: 101.5730 - val_mae: 8.2225\n",
            "Epoch 175/200\n",
            "724/724 [==============================] - 0s 48us/sample - loss: 117.8405 - mae: 8.6625 - val_loss: 101.6482 - val_mae: 8.2088\n",
            "Epoch 176/200\n",
            "724/724 [==============================] - 0s 47us/sample - loss: 117.2910 - mae: 8.6541 - val_loss: 101.6106 - val_mae: 8.2144\n",
            "Epoch 177/200\n",
            "724/724 [==============================] - 0s 46us/sample - loss: 116.7892 - mae: 8.6376 - val_loss: 101.0107 - val_mae: 8.1732\n",
            "Epoch 178/200\n",
            "724/724 [==============================] - 0s 48us/sample - loss: 116.1999 - mae: 8.6095 - val_loss: 100.4552 - val_mae: 8.1235\n",
            "Epoch 179/200\n",
            "724/724 [==============================] - 0s 43us/sample - loss: 115.8838 - mae: 8.5789 - val_loss: 99.9739 - val_mae: 8.0598\n",
            "Epoch 180/200\n",
            "724/724 [==============================] - 0s 46us/sample - loss: 115.5255 - mae: 8.5503 - val_loss: 99.5072 - val_mae: 8.0080\n",
            "Epoch 181/200\n",
            "724/724 [==============================] - 0s 47us/sample - loss: 115.2850 - mae: 8.5299 - val_loss: 99.1488 - val_mae: 7.9876\n",
            "Epoch 182/200\n",
            "724/724 [==============================] - 0s 46us/sample - loss: 114.9738 - mae: 8.5123 - val_loss: 98.7420 - val_mae: 7.9577\n",
            "Epoch 183/200\n",
            "724/724 [==============================] - 0s 46us/sample - loss: 114.5106 - mae: 8.5067 - val_loss: 97.5677 - val_mae: 7.9734\n",
            "Epoch 184/200\n",
            "724/724 [==============================] - 0s 45us/sample - loss: 114.8108 - mae: 8.5430 - val_loss: 97.3041 - val_mae: 7.9662\n",
            "Epoch 185/200\n",
            "724/724 [==============================] - 0s 43us/sample - loss: 115.1217 - mae: 8.5747 - val_loss: 96.2750 - val_mae: 7.9123\n",
            "Epoch 186/200\n",
            "724/724 [==============================] - 0s 41us/sample - loss: 114.1282 - mae: 8.5191 - val_loss: 95.8074 - val_mae: 7.8799\n",
            "Epoch 187/200\n",
            "724/724 [==============================] - 0s 46us/sample - loss: 113.4020 - mae: 8.4688 - val_loss: 95.4852 - val_mae: 7.8403\n",
            "Epoch 188/200\n",
            "724/724 [==============================] - 0s 47us/sample - loss: 112.8770 - mae: 8.4381 - val_loss: 95.4132 - val_mae: 7.8305\n",
            "Epoch 189/200\n",
            "724/724 [==============================] - 0s 45us/sample - loss: 112.5312 - mae: 8.4129 - val_loss: 95.4492 - val_mae: 7.8082\n",
            "Epoch 190/200\n",
            "724/724 [==============================] - 0s 47us/sample - loss: 112.1714 - mae: 8.3962 - val_loss: 95.1278 - val_mae: 7.7948\n",
            "Epoch 191/200\n",
            "724/724 [==============================] - 0s 49us/sample - loss: 111.9653 - mae: 8.3804 - val_loss: 95.0658 - val_mae: 7.7661\n",
            "Epoch 192/200\n",
            "724/724 [==============================] - 0s 42us/sample - loss: 111.7957 - mae: 8.3631 - val_loss: 95.0388 - val_mae: 7.7541\n",
            "Epoch 193/200\n",
            "724/724 [==============================] - 0s 44us/sample - loss: 111.3870 - mae: 8.3423 - val_loss: 94.3539 - val_mae: 7.7346\n",
            "Epoch 194/200\n",
            "724/724 [==============================] - 0s 43us/sample - loss: 111.1413 - mae: 8.3563 - val_loss: 93.8961 - val_mae: 7.7489\n",
            "Epoch 195/200\n",
            "724/724 [==============================] - 0s 46us/sample - loss: 110.8738 - mae: 8.3444 - val_loss: 93.9405 - val_mae: 7.7300\n",
            "Epoch 196/200\n",
            "724/724 [==============================] - 0s 40us/sample - loss: 110.6567 - mae: 8.3247 - val_loss: 93.7588 - val_mae: 7.7231\n",
            "Epoch 197/200\n",
            "724/724 [==============================] - 0s 43us/sample - loss: 110.5818 - mae: 8.3201 - val_loss: 93.7382 - val_mae: 7.7226\n",
            "Epoch 198/200\n",
            "724/724 [==============================] - 0s 41us/sample - loss: 110.5858 - mae: 8.3156 - val_loss: 93.3755 - val_mae: 7.6896\n",
            "Epoch 199/200\n",
            "724/724 [==============================] - 0s 42us/sample - loss: 110.1943 - mae: 8.2939 - val_loss: 92.4936 - val_mae: 7.6461\n",
            "Epoch 200/200\n",
            "724/724 [==============================] - 0s 44us/sample - loss: 109.9852 - mae: 8.2793 - val_loss: 92.3947 - val_mae: 7.6609\n"
          ],
          "name": "stdout"
        }
      ]
    },
    {
      "cell_type": "code",
      "metadata": {
        "id": "s9EcUqPBkPJs",
        "colab_type": "code",
        "outputId": "44700612-d71b-4c0a-b7dd-6b7f790dfe38",
        "colab": {
          "base_uri": "https://localhost:8080/",
          "height": 72
        }
      },
      "source": [
        "model.evaluate(x_test,y_test)"
      ],
      "execution_count": 39,
      "outputs": [
        {
          "output_type": "stream",
          "text": [
            "\r206/1 [====================================================================================================================================================================================================================================================================================================================================================================================================================================================================================================================================================================================================================================================================================================================================================================================================================================================================================================================================================================================================================================================================================================================================================================================================================================================================================================================================================================================================================================================================================================================================================================================================================================================================================================================================================================================================================================================================================================================================================================================================================================================================================================================================================================================================================================================================================================================================================================================================================================================================================================================================================================================================================================================================================================================================================================================================================================================================================================================================================================================================================================================================================================================================================================================================================================================================================================================================================================================================================================================================================================================================================================================================================================================================================================================================================================================================================================================================================================================================================================================================================================================================================================================================================================================================================================================================================================================================================================================================================================================================================================================================================================================================================================================================================================================================================================================================================================================================================================================================================================================================================================================================================================================================================================================================================================================================================================================================================================================================================================================================================================================================================================================================================================================================================================================================================================================================================================================================================================================================================================================================================================================================================================================================================================================================================================================================================================================================================================================================================================] - 0s 45us/sample - loss: 72.7104 - mae: 6.2785\n"
          ],
          "name": "stdout"
        },
        {
          "output_type": "execute_result",
          "data": {
            "text/plain": [
              "[68.70270419815212, 6.2785034]"
            ]
          },
          "metadata": {
            "tags": []
          },
          "execution_count": 39
        }
      ]
    },
    {
      "cell_type": "code",
      "metadata": {
        "id": "rQp7Qxoukv17",
        "colab_type": "code",
        "outputId": "320a988c-ee5b-4448-cf13-3512e8e1d5df",
        "colab": {
          "base_uri": "https://localhost:8080/",
          "height": 295
        }
      },
      "source": [
        "import matplotlib.pyplot as plt\n",
        "loss = history.history['loss']\n",
        "val_loss = history.history['val_loss']\n",
        "epochs = range(1, len(loss) + 1)\n",
        "plt.plot(epochs, loss, 'bo', label='Training loss')\n",
        "plt.plot(epochs, val_loss, 'b', label='Validation loss')\n",
        "plt.title('Training and validation loss')\n",
        "plt.xlabel('Epochs')\n",
        "plt.ylabel('Loss')\n",
        "plt.legend()\n",
        "plt.show()\n"
      ],
      "execution_count": 37,
      "outputs": [
        {
          "output_type": "display_data",
          "data": {
            "image/png": "[encoded data removed]",
            "text/plain": [
              "<Figure size 432x288 with 1 Axes>"
            ]
          },
          "metadata": {
            "tags": []
          }
        }
      ]
    },
    {
      "cell_type": "code",
      "metadata": {
        "id": "1ayWlzrnk5tD",
        "colab_type": "code",
        "colab": {
          "base_uri": "https://localhost:8080/",
          "height": 920
        },
        "outputId": "b00e5a1b-478f-424d-e711-97b310b22b04"
      },
      "source": [
        "model.fit(x_train,y_train,batch_size=10,epochs=25)"
      ],
      "execution_count": 38,
      "outputs": [
        {
          "output_type": "stream",
          "text": [
            "Train on 824 samples\n",
            "Epoch 1/25\n",
            "824/824 [==============================] - 0s 167us/sample - loss: 107.0657 - mae: 8.1682\n",
            "Epoch 2/25\n",
            "824/824 [==============================] - 0s 148us/sample - loss: 104.9286 - mae: 8.0294\n",
            "Epoch 3/25\n",
            "824/824 [==============================] - 0s 147us/sample - loss: 102.0536 - mae: 7.9288\n",
            "Epoch 4/25\n",
            "824/824 [==============================] - 0s 146us/sample - loss: 100.3370 - mae: 7.8731\n",
            "Epoch 5/25\n",
            "824/824 [==============================] - 0s 148us/sample - loss: 98.8585 - mae: 7.7598\n",
            "Epoch 6/25\n",
            "824/824 [==============================] - 0s 148us/sample - loss: 96.2955 - mae: 7.6915\n",
            "Epoch 7/25\n",
            "824/824 [==============================] - 0s 155us/sample - loss: 95.5417 - mae: 7.6340\n",
            "Epoch 8/25\n",
            "824/824 [==============================] - 0s 161us/sample - loss: 93.6650 - mae: 7.5547\n",
            "Epoch 9/25\n",
            "824/824 [==============================] - 0s 171us/sample - loss: 91.8768 - mae: 7.4548\n",
            "Epoch 10/25\n",
            "824/824 [==============================] - 0s 149us/sample - loss: 90.5881 - mae: 7.3898\n",
            "Epoch 11/25\n",
            "824/824 [==============================] - 0s 148us/sample - loss: 88.1181 - mae: 7.2979\n",
            "Epoch 12/25\n",
            "824/824 [==============================] - 0s 142us/sample - loss: 84.4531 - mae: 7.1209\n",
            "Epoch 13/25\n",
            "824/824 [==============================] - 0s 147us/sample - loss: 82.1001 - mae: 7.0008\n",
            "Epoch 14/25\n",
            "824/824 [==============================] - 0s 148us/sample - loss: 79.6668 - mae: 6.8627\n",
            "Epoch 15/25\n",
            "824/824 [==============================] - 0s 139us/sample - loss: 77.8570 - mae: 6.7985\n",
            "Epoch 16/25\n",
            "824/824 [==============================] - 0s 137us/sample - loss: 75.8909 - mae: 6.6573\n",
            "Epoch 17/25\n",
            "824/824 [==============================] - 0s 146us/sample - loss: 73.0986 - mae: 6.5631\n",
            "Epoch 18/25\n",
            "824/824 [==============================] - 0s 153us/sample - loss: 71.9446 - mae: 6.5066\n",
            "Epoch 19/25\n",
            "824/824 [==============================] - 0s 132us/sample - loss: 70.0611 - mae: 6.3689\n",
            "Epoch 20/25\n",
            "824/824 [==============================] - 0s 136us/sample - loss: 67.8492 - mae: 6.2683\n",
            "Epoch 21/25\n",
            "824/824 [==============================] - 0s 139us/sample - loss: 66.9604 - mae: 6.2977\n",
            "Epoch 22/25\n",
            "824/824 [==============================] - 0s 145us/sample - loss: 65.4205 - mae: 6.1509\n",
            "Epoch 23/25\n",
            "824/824 [==============================] - 0s 143us/sample - loss: 63.5140 - mae: 6.0922\n",
            "Epoch 24/25\n",
            "824/824 [==============================] - 0s 137us/sample - loss: 62.2208 - mae: 6.0356\n",
            "Epoch 25/25\n",
            "824/824 [==============================] - 0s 142us/sample - loss: 60.6046 - mae: 5.9317\n"
          ],
          "name": "stdout"
        },
        {
          "output_type": "execute_result",
          "data": {
            "text/plain": [
              "<tensorflow.python.keras.callbacks.History at 0x7f3743fef748>"
            ]
          },
          "metadata": {
            "tags": []
          },
          "execution_count": 38
        }
      ]
    }
  ]
}